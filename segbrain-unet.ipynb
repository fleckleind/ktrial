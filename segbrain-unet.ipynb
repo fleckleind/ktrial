{
 "cells": [
  {
   "cell_type": "code",
   "execution_count": 1,
   "id": "6730cb96",
   "metadata": {
    "execution": {
     "iopub.execute_input": "2023-03-04T07:50:50.488517Z",
     "iopub.status.busy": "2023-03-04T07:50:50.487913Z",
     "iopub.status.idle": "2023-03-04T07:50:50.495233Z",
     "shell.execute_reply": "2023-03-04T07:50:50.493689Z"
    },
    "papermill": {
     "duration": 0.023813,
     "end_time": "2023-03-04T07:50:50.504457",
     "exception": false,
     "start_time": "2023-03-04T07:50:50.480644",
     "status": "completed"
    },
    "tags": []
   },
   "outputs": [],
   "source": [
    "# dataset: Brain MRI segmentation\n",
    "# reference: pytorch_brain_mri_segmentation_unet\n",
    "# pytorch, UNet, Medical Image Segmentation"
   ]
  },
  {
   "cell_type": "code",
   "execution_count": 2,
   "id": "bb0f435d",
   "metadata": {
    "execution": {
     "iopub.execute_input": "2023-03-04T07:50:50.514771Z",
     "iopub.status.busy": "2023-03-04T07:50:50.513939Z",
     "iopub.status.idle": "2023-03-04T07:50:55.621663Z",
     "shell.execute_reply": "2023-03-04T07:50:55.619669Z"
    },
    "papermill": {
     "duration": 5.11782,
     "end_time": "2023-03-04T07:50:55.626144",
     "exception": false,
     "start_time": "2023-03-04T07:50:50.508324",
     "status": "completed"
    },
    "tags": []
   },
   "outputs": [],
   "source": [
    "# load lib\n",
    "import os\n",
    "from skimage import io, transform\n",
    "\n",
    "import numpy as np\n",
    "import pandas as pd\n",
    "from PIL import Image\n",
    "import matplotlib.pyplot as plt\n",
    "\n",
    "import torch\n",
    "import torch.nn as nn\n",
    "import torch.nn.functional as F\n",
    "from torchvision import transforms, utils\n",
    "from torch.utils.data import Dataset, DataLoader, random_split"
   ]
  },
  {
   "cell_type": "code",
   "execution_count": 3,
   "id": "fed746a6",
   "metadata": {
    "execution": {
     "iopub.execute_input": "2023-03-04T07:50:55.643065Z",
     "iopub.status.busy": "2023-03-04T07:50:55.641926Z",
     "iopub.status.idle": "2023-03-04T07:50:55.670409Z",
     "shell.execute_reply": "2023-03-04T07:50:55.668620Z"
    },
    "papermill": {
     "duration": 0.042325,
     "end_time": "2023-03-04T07:50:55.675262",
     "exception": false,
     "start_time": "2023-03-04T07:50:55.632937",
     "status": "completed"
    },
    "tags": []
   },
   "outputs": [],
   "source": [
    "# load dataset\n",
    "csv_path = '/kaggle/input/lgg-mri-segmentation/kaggle_3m/data.csv'\n",
    "data_path = '/kaggle/input/lgg-mri-segmentation/kaggle_3m'\n",
    "\n",
    "class Data(Dataset):\n",
    "    def __init__(self, path):\n",
    "        self.path = path\n",
    "        # return list of all names of documents\n",
    "        self.patients = [file for file in os.listdir(path) if file not in['data.csv', 'README.md']]\n",
    "        self.masks, self.images = [],[]\n",
    "        \n",
    "        for patient in self.patients:\n",
    "            for file in os.listdir(os.path.join(self.path, patient)):\n",
    "                # .split('.')[0] = name of doc\n",
    "                if 'mask' in file.split('.')[0].split('_'):\n",
    "                    self.masks.append(os.path.join(self.path, patient, file))\n",
    "                else:\n",
    "                    self.images.append(os.path.join(self.path, patient, file))\n",
    "                \n",
    "        self.iamges = sorted(self.images)\n",
    "        self.masks = sorted(self.masks)\n",
    "    \n",
    "    def __len__(self):\n",
    "        return len(self.images)\n",
    "    \n",
    "    def __getitem__(self, idx):\n",
    "        # shape of image, mask = [3,256,256], [1,256,256]\n",
    "        image = self.images[idx]\n",
    "        mask = self.masks[idx]\n",
    "        \n",
    "        image = io.imread(image)  # read image\n",
    "        image = transform.resize(image, (256, 256))\n",
    "        image = image / 255  # normalization?\n",
    "        image = image.transpose((2,0,1))  # pc, prec, FLAIR\n",
    "        \n",
    "        mask = io.imread(mask)\n",
    "        mask = transform.resize(mask, (256, 256))\n",
    "        mask = mask / 255\n",
    "        mask = np.expand_dims(mask, axis=-1).transpose((2, 0, 1))\n",
    "        # np.expand_dims(), expand the shape of array\n",
    "        \n",
    "        image = torch.from_numpy(image)\n",
    "        mask = torch.from_numpy(mask)\n",
    "        \n",
    "        return (image, mask)"
   ]
  },
  {
   "cell_type": "code",
   "execution_count": 4,
   "id": "240556ed",
   "metadata": {
    "execution": {
     "iopub.execute_input": "2023-03-04T07:50:55.690761Z",
     "iopub.status.busy": "2023-03-04T07:50:55.690217Z",
     "iopub.status.idle": "2023-03-04T07:51:00.003038Z",
     "shell.execute_reply": "2023-03-04T07:51:00.001561Z"
    },
    "papermill": {
     "duration": 4.324577,
     "end_time": "2023-03-04T07:51:00.006811",
     "exception": false,
     "start_time": "2023-03-04T07:50:55.682234",
     "status": "completed"
    },
    "tags": []
   },
   "outputs": [],
   "source": [
    "data = Data(data_path)\n",
    "# split the data to 3600train_set and 329validation_set\n",
    "trainset, validset = random_split(data, [3600, 329])\n",
    "train_loader = DataLoader(dataset=trainset, batch_size=10, shuffle=True)\n",
    "valid_loader = DataLoader(dataset=validset, batch_size=10)"
   ]
  },
  {
   "cell_type": "code",
   "execution_count": 5,
   "id": "7e59718a",
   "metadata": {
    "_kg_hide-input": false,
    "execution": {
     "iopub.execute_input": "2023-03-04T07:51:00.016775Z",
     "iopub.status.busy": "2023-03-04T07:51:00.016304Z",
     "iopub.status.idle": "2023-03-04T07:51:00.030717Z",
     "shell.execute_reply": "2023-03-04T07:51:00.029191Z"
    },
    "papermill": {
     "duration": 0.023328,
     "end_time": "2023-03-04T07:51:00.034347",
     "exception": false,
     "start_time": "2023-03-04T07:51:00.011019",
     "status": "completed"
    },
    "tags": []
   },
   "outputs": [],
   "source": [
    "# visualization\n",
    "def image_convert(image):\n",
    "    # tensor->numpy\n",
    "    # clone(): change idx, .cpu():move to cpu\n",
    "    image = image.clone().cpu().numpy()\n",
    "    image = image.transpose((1,2,0))\n",
    "    image = image * 255\n",
    "    return image\n",
    "\n",
    "def mask_convert(mask):\n",
    "    # tensor->numpy\n",
    "    # .detach(): stop backward, np.squeeze: delete unidimension\n",
    "    mask = mask.clone().cpu().detach().numpy()\n",
    "    return np.squeeze(mask)\n",
    "\n",
    "def plot_img(idx):\n",
    "    iter_img = iter(train_loader)  # generate iterator\n",
    "    images, masks = next(iter_img)  # get ele of iter\n",
    "    images = images.to(device)\n",
    "    masks = masks.to(device)\n",
    "    plt.figure(figure=(20,10))\n",
    "    for idxi in range(0, idx):\n",
    "        image = image_convert(images[idxi])\n",
    "        plt.subplot(2, idx, idxi+1)\n",
    "        plt.imshow(image)\n",
    "    for idxi in range(idx):\n",
    "        masks = mask_convert(masks[idxi])\n",
    "        plt.subplot(2, idx, idxi+idx+1)\n",
    "        plt.imshow(mask, cmap='gray')\n",
    "    plt.show()\n",
    "    \n",
    "# plot_img(idx)"
   ]
  },
  {
   "cell_type": "code",
   "execution_count": 6,
   "id": "335d5cf1",
   "metadata": {
    "execution": {
     "iopub.execute_input": "2023-03-04T07:51:00.043811Z",
     "iopub.status.busy": "2023-03-04T07:51:00.043336Z",
     "iopub.status.idle": "2023-03-04T07:51:00.071527Z",
     "shell.execute_reply": "2023-03-04T07:51:00.070112Z"
    },
    "papermill": {
     "duration": 0.036908,
     "end_time": "2023-03-04T07:51:00.075002",
     "exception": false,
     "start_time": "2023-03-04T07:51:00.038094",
     "status": "completed"
    },
    "tags": []
   },
   "outputs": [],
   "source": [
    "# net\n",
    "# ‘SAME’: padding = (kernel_size-stride)/2\n",
    "class Encoder(nn.Module):\n",
    "    def __init__(self, in_ch, out_ch):\n",
    "        super(Encoder, self).__init__()\n",
    "        self.layer = nn.Sequential(\n",
    "            nn.Conv2d(in_channels=in_ch, out_channels=out_ch,\n",
    "                      kernel_size=3, stride=1, padding=1),\n",
    "            nn.BatchNorm2d(out_ch),\n",
    "            nn.ReLU(inplace=True),\n",
    "            nn.Conv2d(out_ch, out_ch, 3, 1, 1),\n",
    "            nn.BatchNorm2d(out_ch),\n",
    "            nn.ReLU(inplace=True),\n",
    "        )\n",
    "        self.down = nn.MaxPool2d(kernel_size=2, stride=2)\n",
    "        \n",
    "    def forward(self, x):\n",
    "        \"\"\"\n",
    "        : param x: input\n",
    "        : return: out1(deep_layer),out2(next_layer)\n",
    "        \"\"\"\n",
    "        out1 = self.layer(x)\n",
    "        out2 = self.down(out1)    \n",
    "        return out1, out2\n",
    "\n",
    "    \n",
    "class Decoder(nn.Module):\n",
    "    def __init__(self, in_ch, out_ch):\n",
    "        super(Decoder, self).__init__()\n",
    "        self.layer = nn.Sequential(\n",
    "            nn.Conv2d(in_channels=in_ch, out_channels=out_ch,\n",
    "                      kernel_size=3, stride=1, padding=1),\n",
    "            nn.BatchNorm2d(out_ch),\n",
    "            nn.ReLU(inplace=True),\n",
    "            nn.Conv2d(out_ch, out_ch, 3, 1, 1),\n",
    "            nn.BatchNorm2d(out_ch),\n",
    "            nn.ReLU(inplace=True),\n",
    "        )\n",
    "        self.up = nn.Upsample(scale_factor=2, mode='bilinear')\n",
    "        \n",
    "    def forward(self, x, out1):\n",
    "        \"\"\"\n",
    "        : param x: input former layer\n",
    "        : param out1: shallow layer\n",
    "        \"\"\"\n",
    "        x = self.up(x)\n",
    "        out = torch.cat((x, out1), dim=1)  # concatenation\n",
    "        out = self.layer(out)\n",
    "        return out\n",
    "    \n",
    "class UNet(nn.Module):\n",
    "    def __init__(self):\n",
    "        super(UNet, self).__init__()\n",
    "        channels = [64, 128, 256, 512, 1024]\n",
    "        \n",
    "        # contract\n",
    "        self.d1 = Encoder(3, channels[0])  # 3-64-64\n",
    "        self.d2 = Encoder(channels[0], channels[1])  # 64-128-128\n",
    "        self.d3 = Encoder(channels[1], channels[2])  # 128-256-256\n",
    "        self.d4 = Encoder(channels[2], channels[3])  # 256-512-512\n",
    "        \n",
    "        # neck\n",
    "        self.nk = nn.Sequential(\n",
    "            nn.Conv2d(in_channels=channels[3], out_channels=channels[4],\n",
    "                      kernel_size=3, stride=1, padding=1),\n",
    "            nn.BatchNorm2d(channels[4]),\n",
    "            nn.ReLU(inplace=True),\n",
    "            nn.Conv2d(in_channels=channels[4], out_channels=channels[4],\n",
    "                      kernel_size=3, stride=1, padding=1),\n",
    "            nn.BatchNorm2d(channels[4]),\n",
    "            nn.ReLU(inplace=True),\n",
    "        )  # 512-1024-1024\n",
    "        \n",
    "        # expansive\n",
    "        self.u4 = Decoder(channels[4]+channels[3], channels[3])  # 1024-512-512\n",
    "        self.u3 = Decoder(channels[3]+channels[2], channels[2])  # 512+256-256-256\n",
    "        self.u2 = Decoder(channels[2]+channels[1], channels[1])  # 256+128-128-128\n",
    "        self.u1 = Decoder(channels[1]+channels[0], channels[0])  # 128+64-64-64\n",
    "        \n",
    "        # segmentation\n",
    "        self.so = nn.Conv2d(in_channels=channels[0], out_channels=1,\n",
    "                           kernel_size=1, stride=1, padding=0)  # 64-1\n",
    "        \n",
    "    def forward(self, x):\n",
    "        outd1, out = self.d1(x)\n",
    "        outd2, out = self.d2(out)\n",
    "        outd3, out = self.d3(out)\n",
    "        outd4, out = self.d4(out)\n",
    "        \n",
    "        out = self.nk(out)\n",
    "        \n",
    "        out = self.u4(out, outd4)\n",
    "        out = self.u3(out, outd3)\n",
    "        out = self.u2(out, outd2)\n",
    "        out = self.u1(out, outd1)\n",
    "        \n",
    "        out = self.so(out)\n",
    "        \n",
    "        return out"
   ]
  },
  {
   "cell_type": "code",
   "execution_count": 7,
   "id": "96e0ce02",
   "metadata": {
    "execution": {
     "iopub.execute_input": "2023-03-04T07:51:00.084607Z",
     "iopub.status.busy": "2023-03-04T07:51:00.084146Z",
     "iopub.status.idle": "2023-03-04T08:43:32.757677Z",
     "shell.execute_reply": "2023-03-04T08:43:32.754750Z"
    },
    "papermill": {
     "duration": 3152.684193,
     "end_time": "2023-03-04T08:43:32.763089",
     "exception": false,
     "start_time": "2023-03-04T07:51:00.078896",
     "status": "completed"
    },
    "tags": []
   },
   "outputs": [
    {
     "name": "stdout",
     "output_type": "stream",
     "text": [
      "Epoch 1/10\n",
      "Train loss:0.05682401858502999\n",
      "Validation loss:0.04844827766558438\n",
      "Best model found at epoch 1, saving model\n",
      "Epoch 2/10\n",
      "Train loss:0.055112714639593226\n",
      "Validation loss:0.04743257888846777\n",
      "Best model found at epoch 2, saving model\n",
      "Epoch 3/10\n",
      "Train loss:0.054202359127359365\n",
      "Validation loss:0.04678865595523155\n",
      "Best model found at epoch 3, saving model\n",
      "Epoch 4/10\n",
      "Train loss:0.05356573782951778\n",
      "Validation loss:0.046372588498122765\n",
      "Best model found at epoch 4, saving model\n",
      "Epoch 5/10\n",
      "Train loss:0.05304475119531465\n",
      "Validation loss:0.046064061084479996\n",
      "Best model found at epoch 5, saving model\n",
      "Epoch 6/10\n",
      "Train loss:0.052603276233680336\n",
      "Validation loss:0.045859470765924816\n",
      "Best model found at epoch 6, saving model\n",
      "Epoch 7/10\n",
      "Train loss:0.05227765735584803\n",
      "Validation loss:0.04569968911395832\n",
      "Best model found at epoch 7, saving model\n",
      "Epoch 8/10\n",
      "Train loss:0.051962192949253624\n",
      "Validation loss:0.04558115595048576\n",
      "Best model found at epoch 8, saving model\n",
      "Epoch 9/10\n",
      "Train loss:0.051655406398802166\n",
      "Validation loss:0.045446146251351544\n",
      "Best model found at epoch 9, saving model\n",
      "Epoch 10/10\n",
      "Train loss:0.05135422908658964\n",
      "Validation loss:0.045375924458670794\n",
      "Best model found at epoch 10, saving model\n"
     ]
    }
   ],
   "source": [
    "device = 'cuda' if torch.cuda.is_available() else 'cpu'\n",
    "model = UNet().to(device)\n",
    "criterion = nn.CrossEntropyLoss()\n",
    "optimizer = torch.optim.SGD(model.parameters(), lr=1e-3, momentum=0.7)\n",
    "\n",
    "epochs, best_loss = 10, 1\n",
    "train_loss, valid_loss = [], []\n",
    "for epoch in range(epochs):\n",
    "    model.train()\n",
    "    temptrloss, tempvlloss = [], []\n",
    "    print('Epoch {}/{}'.format(epoch+1, epochs))\n",
    "    \n",
    "    for image, mask in train_loader:\n",
    "        image = image.to(device, dtype=torch.float)\n",
    "        mask = mask.to(device, dtype=torch.float)\n",
    "        pred = model.forward(image)\n",
    "        mask, pred = torch.squeeze(mask), torch.squeeze(pred)\n",
    "        loss = criterion(pred, mask)\n",
    "        \n",
    "        optimizer.zero_grad()\n",
    "        loss.backward()\n",
    "        optimizer.step()\n",
    "        temptrloss.append(loss.item())\n",
    "    \n",
    "    else:\n",
    "        with torch.no_grad():\n",
    "            for image,mask in valid_loader:\n",
    "                image = image.to(device, dtype=torch.float)\n",
    "                mask = mask.to(device, dtype=torch.float)\n",
    "                pred = model.forward(image)\n",
    "                mask, pred = torch.squeeze(mask), torch.squeeze(pred)\n",
    "                loss = criterion(pred, mask)\n",
    "                tempvlloss.append(loss.item())\n",
    "                \n",
    "    etrloss = np.mean(temptrloss)\n",
    "    print('Train loss:{}'.format(etrloss))\n",
    "    train_loss.append(etrloss)\n",
    "    evlloss = np.mean(tempvlloss)\n",
    "    print('Validation loss:{}'.format(evlloss))\n",
    "    valid_loss.append(evlloss)\n",
    "    \n",
    "    patience = 3\n",
    "    if evlloss < best_loss:\n",
    "        print(f'Best model found at epoch {epoch+1}, saving model')\n",
    "        torch.save(model.state_dict(), 'segbrain_unet.pt')\n",
    "        best_loss = evlloss\n",
    "        stale = 0\n",
    "    else:\n",
    "        stale += 1\n",
    "        if stale > patience:\n",
    "            print(f'No improvment {patience} consecutive epochs, break.')\n",
    "            break"
   ]
  },
  {
   "cell_type": "code",
   "execution_count": 8,
   "id": "2b3fe091",
   "metadata": {
    "execution": {
     "iopub.execute_input": "2023-03-04T08:43:32.783180Z",
     "iopub.status.busy": "2023-03-04T08:43:32.782522Z",
     "iopub.status.idle": "2023-03-04T08:43:33.350658Z",
     "shell.execute_reply": "2023-03-04T08:43:33.347654Z"
    },
    "papermill": {
     "duration": 0.584925,
     "end_time": "2023-03-04T08:43:33.356424",
     "exception": false,
     "start_time": "2023-03-04T08:43:32.771499",
     "status": "completed"
    },
    "tags": []
   },
   "outputs": [
    {
     "data": {
      "image/png": "[encoded data removed]",
      "text/plain": [
       "<Figure size 640x480 with 1 Axes>"
      ]
     },
     "metadata": {},
     "output_type": "display_data"
    }
   ],
   "source": [
    "plt.plot(train_loss,label='train_loss')\n",
    "plt.plot(valid_loss,label='valid_loss')\n",
    "plt.legend()\n",
    "plt.title('Loss Plot')\n",
    "plt.show()"
   ]
  }
 ],
 "metadata": {
  "kernelspec": {
   "display_name": "Python 3",
   "language": "python",
   "name": "python3"
  },
  "language_info": {
   "codemirror_mode": {
    "name": "ipython",
    "version": 3
   },
   "file_extension": ".py",
   "mimetype": "text/x-python",
   "name": "python",
   "nbconvert_exporter": "python",
   "pygments_lexer": "ipython3",
   "version": "3.7.12"
  },
  "papermill": {
   "default_parameters": {},
   "duration": 3179.984144,
   "end_time": "2023-03-04T08:43:35.508254",
   "environment_variables": {},
   "exception": null,
   "input_path": "__notebook__.ipynb",
   "output_path": "__notebook__.ipynb",
   "parameters": {},
   "start_time": "2023-03-04T07:50:35.524110",
   "version": "2.4.0"
  }
 },
 "nbformat": 4,
 "nbformat_minor": 5
}
